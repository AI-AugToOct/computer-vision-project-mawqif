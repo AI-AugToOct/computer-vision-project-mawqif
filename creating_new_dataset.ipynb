{
 "cells": [
  {
   "cell_type": "markdown",
   "id": "21ce6865",
   "metadata": {},
   "source": [
    "In this notebook, we have extracted a new dataset from the original one we got from RoboFlow, and the reason we did this step is that the original data classifies the objects in each image to be either a line or a car , which is not the case in our problem that we are trying to solve. To overcome this we have created the two classes that is tailored to our use case today which is classifing the car if it correctly parked or incorrectly parked , this way will help us getting better results and making the training process easier "
   ]
  },
  {
   "cell_type": "markdown",
   "id": "5f8a8a9a",
   "metadata": {},
   "source": []
  },
  {
   "cell_type": "code",
   "execution_count": 6,
   "id": "c34e9dd1",
   "metadata": {},
   "outputs": [],
   "source": [
    "import tensorflow as tf\n",
    "import json, os, shutil\n",
    "from shapely.geometry import box \n"
   ]
  },
  {
   "cell_type": "code",
   "execution_count": null,
   "id": "0a8f08ef",
   "metadata": {},
   "outputs": [],
   "source": [
    "base_dir = \"dataset\" \n",
    "output_dir = \"classification_dataset\"\n",
    "splits = [\"train\", \"valid\", \"test\"]\n"
   ]
  },
  {
   "cell_type": "code",
   "execution_count": null,
   "id": "ff990da1",
   "metadata": {},
   "outputs": [],
   "source": [
    "def is_car_correct(car, lines):\n",
    "    \"\"\"\n",
    "    Determine if a car is correctly parked given divider line boxes.\n",
    "    car: [x1, y1, x2, y2]\n",
    "    lines: list of [x1, y1, x2, y2]\n",
    "    \"\"\"\n",
    "\n",
    "    # Assume lines are vertical dividers (x boundaries).\n",
    "    # If they are horizontal, swap x/y in sorting below.\n",
    "    line_x = sorted([ (l[0], l[2]) for l in lines ])  # collect x positions\n",
    "\n",
    "    # Get car edges\n",
    "    car_left, car_right = car[0], car[2]\n",
    "\n",
    "    if len(line_x) == 0:\n",
    "        # No lines = undefined → mark incorrect\n",
    "        return False\n",
    "\n",
    "    elif len(line_x) == 1:\n",
    "        # One divider line → car must be completely left or right\n",
    "        lx1, lx2 = line_x[0]\n",
    "        divider_x = (lx1 + lx2) / 2\n",
    "        if car_right <= divider_x or car_left >= divider_x:\n",
    "            return True\n",
    "        else:\n",
    "            return False\n",
    "\n",
    "    else:\n",
    "        # Multiple lines → create slots between consecutive lines\n",
    "        dividers = sorted([ (lx1+lx2)/2 for lx1, lx2 in line_x ])\n",
    "        # Slots are between each pair of consecutive dividers\n",
    "        slots = [(dividers[i], dividers[i+1]) for i in range(len(dividers)-1)]\n",
    "\n",
    "        # Count how many slots the car fits in\n",
    "        fits_in = 0\n",
    "        for (s_left, s_right) in slots:\n",
    "            if car_left >= s_left and car_right <= s_right:\n",
    "                fits_in += 1\n",
    "\n",
    "        return fits_in == 1  # must fit exactly one slot\n"
   ]
  },
  {
   "cell_type": "code",
   "execution_count": 1,
   "id": "6d090c72",
   "metadata": {},
   "outputs": [
    {
     "ename": "NameError",
     "evalue": "name 'splits' is not defined",
     "output_type": "error",
     "traceback": [
      "\u001b[0;31m---------------------------------------------------------------------------\u001b[0m",
      "\u001b[0;31mNameError\u001b[0m                                 Traceback (most recent call last)",
      "Cell \u001b[0;32mIn[1], line 2\u001b[0m\n\u001b[1;32m      1\u001b[0m \u001b[38;5;66;03m# -------------------- MAIN LOOP --------------------\u001b[39;00m\n\u001b[0;32m----> 2\u001b[0m \u001b[38;5;28;01mfor\u001b[39;00m split \u001b[38;5;129;01min\u001b[39;00m \u001b[43msplits\u001b[49m:\n\u001b[1;32m      3\u001b[0m     ann_file \u001b[38;5;241m=\u001b[39m os\u001b[38;5;241m.\u001b[39mpath\u001b[38;5;241m.\u001b[39mjoin(base_dir, split, \u001b[38;5;124m\"\u001b[39m\u001b[38;5;124m_annotations.coco.json\u001b[39m\u001b[38;5;124m\"\u001b[39m)\n\u001b[1;32m      4\u001b[0m     img_dir \u001b[38;5;241m=\u001b[39m os\u001b[38;5;241m.\u001b[39mpath\u001b[38;5;241m.\u001b[39mjoin(base_dir, split)\n",
      "\u001b[0;31mNameError\u001b[0m: name 'splits' is not defined"
     ]
    }
   ],
   "source": [
    "\n",
    "# -------------------- MAIN LOOP --------------------\n",
    "for split in splits:\n",
    "    ann_file = os.path.join(base_dir, split, \"_annotations.coco.json\")\n",
    "    img_dir = os.path.join(base_dir, split)\n",
    "\n",
    "    out_correct = os.path.join(output_dir, split, \"correct\")\n",
    "    out_incorrect = os.path.join(output_dir, split, \"incorrect\")\n",
    "    os.makedirs(out_correct, exist_ok=True)\n",
    "    os.makedirs(out_incorrect, exist_ok=True)\n",
    "\n",
    "    with open(ann_file) as f:\n",
    "        data = json.load(f)\n",
    "\n",
    "    # Hardcoded IDs\n",
    "    car_id = 1\n",
    "    line_id = 2\n",
    "\n",
    "    anns_by_image = {}\n",
    "    for ann in data[\"annotations\"]:\n",
    "        anns_by_image.setdefault(ann[\"image_id\"], []).append(ann)\n",
    "\n",
    "    for img in data[\"images\"]:\n",
    "        img_id = img[\"id\"]\n",
    "        img_path = os.path.join(img_dir, img[\"file_name\"])\n",
    "\n",
    "        anns = anns_by_image.get(img_id, [])\n",
    "        cars, lines = [], []\n",
    "\n",
    "        for ann in anns:\n",
    "            x, y, w, h = ann[\"bbox\"]\n",
    "            bbox = [x, y, x+w, y+h]\n",
    "            if ann[\"category_id\"] == car_id:\n",
    "                cars.append(bbox)\n",
    "            elif ann[\"category_id\"] == line_id:\n",
    "                lines.append(bbox)\n",
    "\n",
    "        incorrect_flag = False\n",
    "        for car in cars:\n",
    "            if not is_car_correct(car, lines):\n",
    "                incorrect_flag = True\n",
    "                break\n",
    "\n",
    "        if incorrect_flag:\n",
    "            shutil.copy(img_path, out_incorrect)\n",
    "        else:\n",
    "            shutil.copy(img_path, out_correct)"
   ]
  },
  {
   "cell_type": "code",
   "execution_count": 16,
   "id": "72cc9b67",
   "metadata": {},
   "outputs": [],
   "source": [
    "import shutil\n"
   ]
  },
  {
   "cell_type": "code",
   "execution_count": 17,
   "id": "1329ffd4",
   "metadata": {},
   "outputs": [
    {
     "data": {
      "text/plain": [
       "'/Users/farahalhanaya/computer-vision-project-mawqif/classification_dataset.zip'"
      ]
     },
     "execution_count": 17,
     "metadata": {},
     "output_type": "execute_result"
    }
   ],
   "source": [
    "shutil.make_archive(\"classification_dataset\", 'zip', \"classification_dataset\")\n"
   ]
  },
  {
   "cell_type": "code",
   "execution_count": null,
   "id": "70e80334",
   "metadata": {},
   "outputs": [],
   "source": []
  }
 ],
 "metadata": {
  "kernelspec": {
   "display_name": "Python 3",
   "language": "python",
   "name": "python3"
  },
  "language_info": {
   "codemirror_mode": {
    "name": "ipython",
    "version": 3
   },
   "file_extension": ".py",
   "mimetype": "text/x-python",
   "name": "python",
   "nbconvert_exporter": "python",
   "pygments_lexer": "ipython3",
   "version": "3.9.6"
  }
 },
 "nbformat": 4,
 "nbformat_minor": 5
}
